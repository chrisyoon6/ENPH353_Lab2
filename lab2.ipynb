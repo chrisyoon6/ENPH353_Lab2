{
  "cells": [
    {
      "cell_type": "markdown",
      "metadata": {
        "id": "view-in-github",
        "colab_type": "text"
      },
      "source": [
        "<a href=\"https://colab.research.google.com/github/chrisyoon6/ENPH353_Lab2/blob/main/lab2.ipynb\" target=\"_parent\"><img src=\"https://colab.research.google.com/assets/colab-badge.svg\" alt=\"Open In Colab\"/></a>"
      ]
    },
    {
      "cell_type": "code",
      "execution_count": 13,
      "metadata": {
        "colab": {
          "base_uri": "https://localhost:8080/"
        },
        "id": "puMvf4ErYuyl",
        "outputId": "d87de35b-6638-488e-b551-f2a5f816aef1"
      },
      "outputs": [
        {
          "output_type": "stream",
          "name": "stdout",
          "text": [
            "Drive already mounted at /content/drive; to attempt to forcibly remount, call drive.mount(\"/content/drive\", force_remount=True).\n",
            "Drive already mounted at /content/drive; to attempt to forcibly remount, call drive.mount(\"/content/drive\", force_remount=True).\n",
            "Drive already mounted at /content/drive; to attempt to forcibly remount, call drive.mount(\"/content/drive\", force_remount=True).\n"
          ]
        }
      ],
      "source": [
        "# Authorize Google Drive access\n",
        "from google.colab import drive\n",
        "drive.mount('/content/drive')"
      ]
    },
    {
      "cell_type": "code",
      "execution_count": 14,
      "metadata": {
        "id": "aN3Pq2Z7D4a8"
      },
      "outputs": [],
      "source": [
        "import cv2\n",
        "import matplotlib.pyplot as plt\n",
        "import math"
      ]
    },
    {
      "cell_type": "code",
      "execution_count": 15,
      "metadata": {
        "colab": {
          "base_uri": "https://localhost:8080/",
          "height": 35
        },
        "id": "HyLlzpnID5fq",
        "outputId": "41da6ab5-ab58-400a-e5e0-5b2f904833c5"
      },
      "outputs": [
        {
          "output_type": "execute_result",
          "data": {
            "text/plain": [
              "'4.6.0'"
            ],
            "application/vnd.google.colaboratory.intrinsic+json": {
              "type": "string"
            }
          },
          "metadata": {},
          "execution_count": 3
        },
        {
          "output_type": "execute_result",
          "data": {
            "text/plain": [
              "'4.6.0'"
            ],
            "application/vnd.google.colaboratory.intrinsic+json": {
              "type": "string"
            }
          },
          "metadata": {},
          "execution_count": 9
        },
        {
          "output_type": "execute_result",
          "data": {
            "text/plain": [
              "'4.6.0'"
            ],
            "application/vnd.google.colaboratory.intrinsic+json": {
              "type": "string"
            }
          },
          "metadata": {},
          "execution_count": 15
        }
      ],
      "source": [
        "cv2.__version__"
      ]
    },
    {
      "cell_type": "code",
      "execution_count": 16,
      "metadata": {
        "id": "czOCr0QUc3Zv"
      },
      "outputs": [],
      "source": [
        "\n",
        "# Open a video file to read from it:\n",
        "video_name = \"/content/drive/MyDrive/Enph353/raw_video_feed.mp4\"\n",
        "video_reader = cv2.VideoCapture(video_name)\n",
        "ret, frame = video_reader.read()\n",
        "\n",
        "# Create a video file to write to:\n",
        "shape = frame.shape\n",
        "fourcc = cv2.VideoWriter_fourcc(*'MJPG')\n",
        "video_writer = cv2.VideoWriter('output.mp4', fourcc, 20, (shape[1], shape[0]))"
      ]
    },
    {
      "cell_type": "code",
      "execution_count": 17,
      "metadata": {
        "id": "3adCSQZgvIxK"
      },
      "outputs": [],
      "source": [
        "'''gets the x coordinate representing the centre of the road'''\n",
        "def get_line_centre_x(grayFrame, y, lowerThres, upperThres):\n",
        "  leftCoords = -1\n",
        "  rightCoords = -1\n",
        "  line = grayFrame[y]\n",
        "  for i in range(0,len(line)):\n",
        "    # left\n",
        "    if leftCoords == -1 and line[i] >= lowerThres and line[i] <= upperThres:\n",
        "      leftCoords = i\n",
        "    # right\n",
        "    elif leftCoords != -1 and rightCoords == -1 and line[i] >= upperThres:\n",
        "      rightCoords = i\n",
        "  # print(leftCoords, rightCoords)\n",
        "  return math.floor((leftCoords + rightCoords) / 2)"
      ]
    },
    {
      "cell_type": "code",
      "execution_count": 18,
      "metadata": {
        "id": "iq_ndmzbhmPe"
      },
      "outputs": [],
      "source": [
        "video_name = \"/content/drive/MyDrive/Enph353/raw_video_feed.mp4\"\n",
        "cap = cv2.VideoCapture(video_name)\n",
        "\n",
        "\n",
        "y = 200\n",
        "lowerThres = 50\n",
        "upperThres = 90\n",
        "\n",
        "ret,frame = cap.read()\n",
        "allGrayFrames = []\n",
        "while ret:\n",
        "  gray = cv2.cvtColor(frame, cv2.COLOR_RGB2GRAY)\n",
        "  centre = get_line_centre_x(gray, y, lowerThres, upperThres)\n",
        "\n",
        "  # superpose circle\n",
        "  radius = 20\n",
        "  color = (255, 0, 0)\n",
        "  thickness = -1\n",
        "  newIm = cv2.circle(frame, (centre, y), radius, color, thickness)\n",
        "  video_writer.write(newIm)\n",
        "  ret,frame = cap.read()\n",
        "cap.release()\n",
        "\n"
      ]
    }
  ],
  "metadata": {
    "colab": {
      "collapsed_sections": [],
      "provenance": [],
      "authorship_tag": "ABX9TyMvjfmFxKynezEjGPcIBVcx",
      "include_colab_link": true
    },
    "kernelspec": {
      "display_name": "Python 3",
      "name": "python3"
    },
    "language_info": {
      "name": "python"
    }
  },
  "nbformat": 4,
  "nbformat_minor": 0
}